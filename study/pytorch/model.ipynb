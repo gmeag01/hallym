{
 "cells": [
  {
   "cell_type": "code",
   "execution_count": 22,
   "metadata": {},
   "outputs": [],
   "source": [
    "import os\n",
    "import pandas as pd\n",
    "from sklearn.model_selection import train_test_split\n",
    "\n",
    "from customDataset import *\n",
    "from torch.utils.data import DataLoader, Subset\n",
    "# import albumentations\n",
    "# import albumentations.pytorch"
   ]
  },
  {
   "cell_type": "code",
   "execution_count": 23,
   "metadata": {},
   "outputs": [],
   "source": [
    "# dirPath = './chestImages/'\n",
    "# MakeAnnotationFile(dirPath, fileName='dataset.csv')"
   ]
  },
  {
   "cell_type": "code",
   "execution_count": 24,
   "metadata": {},
   "outputs": [],
   "source": [
    "dataset = CustomImageDataset('./chestImages/dataset.csv')"
   ]
  },
  {
   "cell_type": "code",
   "execution_count": 25,
   "metadata": {},
   "outputs": [],
   "source": [
    "testSize = 0.2\n",
    "valSize = 0.2\n",
    "target = dataset.imgInfo.iloc[:, -3:].values\n",
    "\n",
    "trainIndices, testIndices, trainTarget, _ = train_test_split(range(len(dataset)),\n",
    "                                                   target,\n",
    "                                                   stratify=target,\n",
    "                                                   shuffle=True,\n",
    "                                                   test_size=testSize\n",
    ")\n",
    "trainSplit = Subset(dataset, trainIndices)\n",
    "testSplit = Subset(dataset, testIndices)\n",
    "\n",
    "trainIndices, valIndices, _, _ = train_test_split(range(len(trainSplit)),\n",
    "                                                   trainTarget,\n",
    "                                                   stratify=trainTarget,\n",
    "                                                   shuffle=True,\n",
    "                                                   test_size=valSize\n",
    ")\n",
    "trainSplit = Subset(trainSplit, trainIndices)\n",
    "valSplit = Subset(trainSplit, valIndices)"
   ]
  },
  {
   "cell_type": "code",
   "execution_count": null,
   "metadata": {},
   "outputs": [],
   "source": [
    "# tarinTransfrom = albumentations.Compose([albumentations.Resize(640, 640),\n",
    "#                                         albumentations.VerticalFlip(p=1),\n",
    "#                                         albumentations.Affine(shear=0.15, p=0.5, mode='constant')])"
   ]
  }
 ],
 "metadata": {
  "kernelspec": {
   "display_name": "Python 3",
   "language": "python",
   "name": "python3"
  },
  "language_info": {
   "codemirror_mode": {
    "name": "ipython",
    "version": 3
   },
   "file_extension": ".py",
   "mimetype": "text/x-python",
   "name": "python",
   "nbconvert_exporter": "python",
   "pygments_lexer": "ipython3",
   "version": "3.10.8"
  },
  "orig_nbformat": 4,
  "vscode": {
   "interpreter": {
    "hash": "fb4569285eef3a3450cb62085a5b1e0da4bce0af555edc33dcf29baf3acc1368"
   }
  }
 },
 "nbformat": 4,
 "nbformat_minor": 2
}
