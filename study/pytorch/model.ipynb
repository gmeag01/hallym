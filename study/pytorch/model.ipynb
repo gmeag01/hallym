{
 "cells": [
  {
   "cell_type": "code",
   "execution_count": 12,
   "metadata": {},
   "outputs": [],
   "source": [
    "import os\n",
    "import pandas as pd\n",
    "from sklearn.model_selection import train_test_split\n",
    "\n",
    "from customDataset import *\n",
    "from torch.utils.data import DataLoader, Subset"
   ]
  },
  {
   "cell_type": "code",
   "execution_count": 13,
   "metadata": {},
   "outputs": [],
   "source": [
    "# dirPath = './chestImages/'\n",
    "# MakeAnnotationFile(dirPath, fileName='dataset.csv')"
   ]
  },
  {
   "cell_type": "code",
   "execution_count": 14,
   "metadata": {},
   "outputs": [],
   "source": [
    "dataset = CustomImageDataset('./chestImages/dataset.csv')"
   ]
  },
  {
   "cell_type": "code",
   "execution_count": 15,
   "metadata": {},
   "outputs": [],
   "source": [
    "testSize = 0.2\n",
    "valSize = 0.2\n",
    "target = dataset.imgInfo.iloc[:, -3:].values\n",
    "\n",
    "trainIndices, testIndices, trainTarget, _ = train_test_split(range(len(dataset)),\n",
    "                                                   target,\n",
    "                                                   stratify=target,\n",
    "                                                   shuffle=True,\n",
    "                                                   test_size=testSize\n",
    ")\n",
    "trainSplit = Subset(dataset, trainIndices)\n",
    "testSplit = Subset(dataset, testIndices)\n",
    "\n",
    "trainIndices, valIndices, _, _ = train_test_split(range(len(trainSplit)),\n",
    "                                                   trainTarget,\n",
    "                                                   stratify=trainTarget,\n",
    "                                                   shuffle=True,\n",
    "                                                   test_size=valSize\n",
    ")\n",
    "trainSplit = Subset(trainSplit, trainIndices)\n",
    "valSplit = Subset(trainSplit, valIndices)"
   ]
  }
 ],
 "metadata": {
  "kernelspec": {
   "display_name": "Python 3",
   "language": "python",
   "name": "python3"
  },
  "language_info": {
   "codemirror_mode": {
    "name": "ipython",
    "version": 3
   },
   "file_extension": ".py",
   "mimetype": "text/x-python",
   "name": "python",
   "nbconvert_exporter": "python",
   "pygments_lexer": "ipython3",
   "version": "3.10.9"
  },
  "orig_nbformat": 4,
  "vscode": {
   "interpreter": {
    "hash": "df95319d8ce4e1d89f5365ae10992bc1f65da593082b1d264e8f529830ec2f02"
   }
  }
 },
 "nbformat": 4,
 "nbformat_minor": 2
}
